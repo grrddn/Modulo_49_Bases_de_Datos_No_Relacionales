{
 "cells": [
  {
   "cell_type": "markdown",
   "id": "24069762",
   "metadata": {},
   "source": [
    "# **Módulo 49 - Bases de Datos No Relacionales**\n",
    "\n",
    "En este módulo exploraremos el mundo de las bases de datos no relacionales, también conocidas como NoSQL. Estas bases de datos son fundamentales para manejar grandes volúmenes de datos no estructurados y semiestructurados, ofreciendo flexibilidad y escalabilidad en comparación con las bases de datos relacionales tradicionales. A lo largo del módulo, nos centraremos en los siguientes temas:\n",
    "\n",
    "## **Introducción a NoSQL**\n",
    "\n",
    "Comprenderemos los fundamentos de las bases de datos NoSQL, sus diferentes tipos (documentales, clave-valor, columnares y de grafos) y cuando es más apropiado utilizarlas en lugar de las bases de datos SQL tradicionales.\n",
    "\n",
    "## **Modelado de Datos No Relacionales**\n",
    "\n",
    "Aprenderemos a modelar datos en un entorno NoSQL, explorando cómo estructurar la información para maximizar la eficiencia y el rendimiento, y cómo las decisiones de modelado afectan la escalabilidad y la felxibilidad de la base de datos.\n",
    "\n",
    "## **Herramientas y Tecnologías NoSQL**\n",
    "\n",
    "Nos familiarizaremos con las herramientas y tecnologías más populares en el ámbito NoSQL, como MongoDB, Cassandra y Redis, explorando sus características, casos de uso y cómo integrarlas en proyectos de análisis de datos."
   ]
  },
  {
   "cell_type": "markdown",
   "id": "40da98fe",
   "metadata": {},
   "source": [
    "# **NoSQL**\n",
    "\n",
    "- Necesidad de escalabilidad y performance.\n",
    "- Se hace el release de varios productos como BigTable y DynamoDB.\n",
    "- Todos ellos enfocados en mejoras de la búsqueda, así como su performance.\n",
    "- Al inicio surgieron soluciones propietarias para luego abrirse a open source como MongoDB, Hypertable, Cassandra.\n",
    "\n",
    "## **Principales Diferencias:**\n",
    "\n",
    "- Bases de Datos NoSQL no son estructuradas, sino dinámicas.\n",
    "- Esto quiere decir que no tienen una estructura fija de tablas como un RDBMS.\n",
    "- No tienen un esquema de tablas, sino una colección de documentos basados en pares tipo **key-value**. Esto quiere decir que internamente todos los valores de una base de datos NoSQL tienen una llave."
   ]
  },
  {
   "cell_type": "code",
   "execution_count": 1,
   "id": "5b52fd15",
   "metadata": {},
   "outputs": [
    {
     "ename": "ModuleNotFoundError",
     "evalue": "No module named 'pymongo'",
     "output_type": "error",
     "traceback": [
      "\u001b[1;31m---------------------------------------------------------------------------\u001b[0m",
      "\u001b[1;31mModuleNotFoundError\u001b[0m                       Traceback (most recent call last)",
      "Cell \u001b[1;32mIn[1], line 1\u001b[0m\n\u001b[1;32m----> 1\u001b[0m \u001b[38;5;28;01mfrom\u001b[39;00m \u001b[38;5;21;01mpymongo\u001b[39;00m \u001b[38;5;28;01mimport\u001b[39;00m MongoClient\n\u001b[0;32m      2\u001b[0m \u001b[38;5;66;03m# Requires the PyMongo package.\u001b[39;00m\n\u001b[0;32m      3\u001b[0m \u001b[38;5;66;03m# https://api.mongodb.com/python/current\u001b[39;00m\n\u001b[0;32m      4\u001b[0m client \u001b[38;5;241m=\u001b[39m MongoClient(\u001b[38;5;124m'\u001b[39m\u001b[38;5;124mmongodb://ac-jo09jlw-shard-00-02.z4prcil.mongodb.net,ac-jo09jlw-shard-00-01.z4prcil.mongodb.net,ac-jo09jlw-shard-00-00.z4prcil.mongodb.net/?tls=true&authMechanism=MONGODB-X509&authSource=\u001b[39m\u001b[38;5;132;01m%24e\u001b[39;00m\u001b[38;5;124mxternal&serverMonitoringMode=poll&maxIdleTimeMS=30000&minPoolSize=0&maxPoolSize=5&maxConnecting=6&replicaSet=atlas-8u6tff-shard-0&appName=Data+Explorer--68b75b1d9155d1536e494eac\u001b[39m\u001b[38;5;124m'\u001b[39m)\n",
      "\u001b[1;31mModuleNotFoundError\u001b[0m: No module named 'pymongo'"
     ]
    }
   ],
   "source": [
    "from pymongo import MongoClient\n",
    "# Requires the PyMongo package.\n",
    "# https://api.mongodb.com/python/current\n",
    "client = MongoClient('mongodb://ac-jo09jlw-shard-00-02.z4prcil.mongodb.net,ac-jo09jlw-shard-00-01.z4prcil.mongodb.net,ac-jo09jlw-shard-00-00.z4prcil.mongodb.net/?tls=true&authMechanism=MONGODB-X509&authSource=%24external&serverMonitoringMode=poll&maxIdleTimeMS=30000&minPoolSize=0&maxPoolSize=5&maxConnecting=6&replicaSet=atlas-8u6tff-shard-0&appName=Data+Explorer--68b75b1d9155d1536e494eac')\n",
    "filter={\n",
    "    'accommodates': 5\n",
    "}\n",
    "result = client['sample_airbnb']['listingsAndReviews'].find(\n",
    "  filter=filter\n",
    ")"
   ]
  },
  {
   "cell_type": "code",
   "execution_count": null,
   "id": "f5ac4595",
   "metadata": {},
   "outputs": [],
   "source": []
  }
 ],
 "metadata": {
  "kernelspec": {
   "display_name": "base",
   "language": "python",
   "name": "python3"
  },
  "language_info": {
   "codemirror_mode": {
    "name": "ipython",
    "version": 3
   },
   "file_extension": ".py",
   "mimetype": "text/x-python",
   "name": "python",
   "nbconvert_exporter": "python",
   "pygments_lexer": "ipython3",
   "version": "3.12.7"
  }
 },
 "nbformat": 4,
 "nbformat_minor": 5
}
