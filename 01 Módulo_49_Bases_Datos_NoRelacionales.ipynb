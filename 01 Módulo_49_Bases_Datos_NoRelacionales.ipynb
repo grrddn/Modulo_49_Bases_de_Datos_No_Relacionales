{
 "cells": [
  {
   "cell_type": "markdown",
   "id": "24069762",
   "metadata": {},
   "source": [
    "# **Módulo 49 - Bases de Datos No Relacionales**\n",
    "\n",
    "En este módulo exploraremos el mundo de las bases de datos no relacionales, también conocidas como NoSQL. Estas bases de datos son fundamentales para manejar grandes volúmenes de datos no estructurados y semiestructurados, ofreciendo flexibilidad y escalabilidad en comparación con las bases de datos relacionales tradicionales. A lo largo del módulo, nos centraremos en los siguientes temas:\n",
    "\n",
    "## **Introducción a NoSQL**\n",
    "\n",
    "Comprenderemos los fundamentos de las bases de datos NoSQL, sus diferentes tipos (documentales, clave-valor, columnares y de grafos) y cuando es más apropiado utilizarlas en lugar de las bases de datos SQL tradicionales.\n",
    "\n",
    "## **Modelado de Datos No Relacionales**\n",
    "\n",
    "Aprenderemos a modelar datos en un entorno NoSQL, explorando cómo estructurar la información para maximizar la eficiencia y el rendimiento, y cómo las decisiones de modelado afectan la escalabilidad y la felxibilidad de la base de datos.\n",
    "\n",
    "## **Herramientas y Tecnologías NoSQL**\n",
    "\n",
    "Nos familiarizaremos con las herramientas y tecnologías más populares en el ámbito NoSQL, como MongoDB, Cassandra y Redis, explorando sus características, casos de uso y cómo integrarlas en proyectos de análisis de datos."
   ]
  },
  {
   "cell_type": "markdown",
   "id": "40da98fe",
   "metadata": {},
   "source": [
    "# **NoSQL**\n",
    "\n",
    "- Necesidad de escalabilidad y performance.\n",
    "- Se hace el release de varios productos como BigTable y DynamoDB.\n",
    "- Todos ellos enfocados en mejoras de la búsqueda, así como su performance.\n",
    "- Al inicio surgieron soluciones propietarias para luego abrirse a open source como MongoDB, Hypertable, Cassandra.\n",
    "\n",
    "## **Principales Diferencias:**\n",
    "\n",
    "- Bases de Datos NoSQL no son estructuradas, sino dinámicas.\n",
    "- Esto quiere decir que no tienen una estructura fija de tablas como un RDBMS.\n",
    "- No tienen un esquema de tablas, sino una colección de documentos basados en pares tipo **key-value**. Esto quiere decir que internamente todos los valores de una base de datos NoSQL tienen una llave."
   ]
  },
  {
   "cell_type": "code",
   "execution_count": 2,
   "id": "e8ec16fa",
   "metadata": {},
   "outputs": [
    {
     "name": "stdout",
     "output_type": "stream",
     "text": [
      "Collecting pymongo\n",
      "  Downloading pymongo-4.14.1-cp312-cp312-win_amd64.whl.metadata (22 kB)\n",
      "Collecting dnspython<3.0.0,>=1.16.0 (from pymongo)\n",
      "  Downloading dnspython-2.7.0-py3-none-any.whl.metadata (5.8 kB)\n",
      "Downloading pymongo-4.14.1-cp312-cp312-win_amd64.whl (904 kB)\n",
      "   ---------------------------------------- 0.0/904.5 kB ? eta -:--:--\n",
      "   --------------------------------------- 904.5/904.5 kB 13.7 MB/s eta 0:00:00\n",
      "Downloading dnspython-2.7.0-py3-none-any.whl (313 kB)\n",
      "Installing collected packages: dnspython, pymongo\n",
      "Successfully installed dnspython-2.7.0 pymongo-4.14.1\n"
     ]
    }
   ],
   "source": [
    "!pip install pymongo\n"
   ]
  },
  {
   "cell_type": "code",
   "execution_count": 13,
   "id": "5b52fd15",
   "metadata": {},
   "outputs": [],
   "source": [
    "from pymongo import MongoClient\n",
    "\n",
    "# Requires the PyMongo package.\n",
    "# https://api.mongodb.com/python/current\n",
    "\n",
    "client = MongoClient('mongodb://ac-jo09jlw-shard-00-02.z4prcil.mongodb.net,ac-jo09jlw-shard-00-01.z4prcil.mongodb.net,ac-jo09jlw-shard-00-00.z4prcil.mongodb.net/?tls=true&authMechanism=MONGODB-X509&authSource=%24external&serverMonitoringMode=poll&maxIdleTimeMS=30000&minPoolSize=0&maxPoolSize=5&maxConnecting=6&replicaSet=atlas-8u6tff-shard-0&appName=Data+Explorer--68b75b1d9155d1536e494eac')\n",
    "\n",
    "\n",
    "result = client['sample_analytics']['customers']"
   ]
  }
 ],
 "metadata": {
  "kernelspec": {
   "display_name": "base",
   "language": "python",
   "name": "python3"
  },
  "language_info": {
   "codemirror_mode": {
    "name": "ipython",
    "version": 3
   },
   "file_extension": ".py",
   "mimetype": "text/x-python",
   "name": "python",
   "nbconvert_exporter": "python",
   "pygments_lexer": "ipython3",
   "version": "3.12.7"
  }
 },
 "nbformat": 4,
 "nbformat_minor": 5
}
